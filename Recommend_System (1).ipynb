{
 "cells": [
  {
   "cell_type": "code",
   "execution_count": 1,
   "id": "f4c5f881",
   "metadata": {},
   "outputs": [],
   "source": [
    "import pandas as pd\n",
    "import numpy as np\n",
    "from sklearn.metrics.pairwise import cosine_similarity\n",
    "from transformers import AutoTokenizer, AutoModel\n",
    "import torch\n",
    "from collections import Counter\n",
    "\n",
    "# BERT 토크나이저와 모델 초기화\n",
    "tokenizer = AutoTokenizer.from_pretrained(\"bert-base-uncased\")\n",
    "model = AutoModel.from_pretrained(\"bert-base-uncased\")\n",
    "if torch.cuda.is_available():\n",
    "    model.cuda()"
   ]
  },
  {
   "cell_type": "code",
   "execution_count": 2,
   "id": "8b814e4b",
   "metadata": {},
   "outputs": [],
   "source": [
    "# 장르 목록을 문자열로 변환하는 함수\n",
    "def get_genres_text(data):\n",
    "    genres_text = []\n",
    "    for genres_list in data:\n",
    "        genres_text.append(' '.join(genres_list))\n",
    "    return genres_text\n"
   ]
  },
  {
   "cell_type": "code",
   "execution_count": 3,
   "id": "93a762fa",
   "metadata": {},
   "outputs": [],
   "source": [
    "# 데이터를 로드하고 전처리하는 함수\n",
    "def load_and_preprocess_data(file_path):\n",
    "    # 로드\n",
    "    data = pd.read_csv(file_path)\n",
    "\n",
    "    # 데이터 전처리\n",
    "    data['title_overview'] = data['title'] + ' ' + data['overview']\n",
    "    data['title_overview'] = data['title_overview'].str.lower()\n",
    "    data.drop(['Unnamed: 0', 'id', 'status', 'original_language', 'original_title', 'spoken_languages', 'overview'],\n",
    "                axis=1, inplace=True)\n",
    "    data = data[data.runtime < 300].reset_index(drop=True)\n",
    "    data['year'] = data['release_date'].str[:4]\n",
    "    data['month'] = data['release_date'].str[5:7]\n",
    "    data.drop(['release_date'], axis=1, inplace=True)\n",
    "    years_to_remove = [2024, 2025, 2026, 2027, 2099]\n",
    "    data = data[~data['year'].astype(int).isin(years_to_remove)].reset_index(drop=True)\n",
    "    data['genres'] = data['genres'].str.split(',').apply(lambda x: [genre.strip().lower() for genre in x])\n",
    "    data['production_countries'] = data['production_countries'].str.split(',').apply(lambda x: [country.strip().lower() for country in x])\n",
    "    top_countries = [country for country, _ in Counter(data['production_countries'].sum()).most_common(9)]\n",
    "    data['production_countries'] = data['production_countries'].apply(lambda x: [country if country in top_countries else 'Other' for country in x])\n",
    "    data = data[data['revenue'] > 1000000]\n",
    "    data['genres_text'] = get_genres_text(data['genres'])\n",
    "    return data"
   ]
  },
  {
   "cell_type": "code",
   "execution_count": 4,
   "id": "538b8fac",
   "metadata": {},
   "outputs": [],
   "source": [
    "# 장르 기반으로 상위 영화를 필터링하는 함수\n",
    "def filter_top_movies_by_genre(top_movies_df, df, top_n=20):\n",
    "    # 코사인 유사도\n",
    "    top_movies_vectors = np.array(list(top_movies_df['genres_text_vector']))\n",
    "    all_movies_vectors = np.array(list(df['genres_text_vector']))\n",
    "\n",
    "    cos_similarities = cosine_similarity(top_movies_vectors, all_movies_vectors)\n",
    "\n",
    "    # 필터링\n",
    "    top_indices = [np.argsort(cos_similarities[i])[::-1][:top_n] for i in range(len(top_movies_df))]\n",
    "\n",
    "    # 데이터 프레임 생성\n",
    "    top_movies_by_genre = pd.DataFrame()\n",
    "    for indices in top_indices:\n",
    "        top_movies_by_genre = pd.concat([top_movies_by_genre, df.iloc[indices]])\n",
    "\n",
    "    return top_movies_by_genre.drop_duplicates(subset=['title', 'vote_average', 'revenue', 'popularity', 'vote_count', 'title_overview', 'genres_text']).head(top_n)\n"
   ]
  },
  {
   "cell_type": "code",
   "execution_count": 6,
   "id": "3bde40d6",
   "metadata": {},
   "outputs": [],
   "source": [
    "# Function to compute BERT embeddings\n",
    "def get_bert_embeddings(text):\n",
    "    inputs = tokenizer(text, return_tensors=\"pt\", padding=True, truncation=True, max_length=512)\n",
    "    if torch.cuda.is_available():\n",
    "        inputs = {k: v.to('cuda') for k, v in inputs.items()}\n",
    "    \n",
    "    with torch.no_grad():\n",
    "        outputs = model(**inputs)\n",
    "\n",
    "    return outputs.last_hidden_state.mean(dim=1).cpu().numpy()"
   ]
  },
  {
   "cell_type": "code",
   "execution_count": 7,
   "id": "b1733932",
   "metadata": {},
   "outputs": [
    {
     "name": "stdout",
     "output_type": "stream",
     "text": [
      "['Insidious: Chapter 3' 'The Menu' 'The Last Exorcism'\n",
      " 'Escape Room: Tournament of Champions' 'Ready or Not']\n"
     ]
    }
   ],
   "source": [
    "def recommend_movies(movie_title, df, top_n=5):\n",
    "    # 선택한 영화의 벡터를 가져옵니다.\n",
    "    selected_movie_vector = df[df['title'] == movie_title]['title_overview_vector'].values[0]\n",
    "\n",
    "    # 모든 영화의 벡터와 선택한 영화의 벡터 간의 코사인 유사도를 계산합니다.\n",
    "    cos_similarities = cosine_similarity([selected_movie_vector], list(df['title_overview_vector']))[0]\n",
    "\n",
    "    # 코사인 유사도가 가장 높은 상위 50개 영화의 인덱스를 가져옵니다.\n",
    "    top_50_indices = np.argsort(cos_similarities)[::-1][1:51]\n",
    "\n",
    "    # 상위 50개 영화의 데이터 프레임을 생성합니다.\n",
    "    top_50_movies = df.iloc[top_50_indices]\n",
    "\n",
    "    # 상위 50개 영화 중 장르가 유사한 상위 20개 영화를 필터링합니다.\n",
    "    top_20_movies = filter_top_movies_by_genre(top_50_movies, df)\n",
    "\n",
    "    # 상위 20개 영화 중 수익, 투표 수, 평균 투표 점수가 가장 높은 상위 5개 영화를 선택합니다.\n",
    "    top_5_movies = top_20_movies.sort_values(by=['revenue', 'vote_count', 'vote_average'], ascending=False).head(top_n)\n",
    "\n",
    "    # 상위 5개 영화의 제목을 반환합니다.\n",
    "    return top_5_movies['title'].values\n",
    "\n",
    "# 데이터를 로드하고 전처리합니다.\n",
    "df = load_and_preprocess_data(\"data.csv\")\n",
    "\n",
    "# 영화 개요와 장르 텍스트에 대해 BERT 임베딩을 계산합니다.\n",
    "df['title_overview_vector'] = df['title_overview'].apply(lambda x: get_bert_embeddings(x)[0])\n",
    "df['genres_text_vector'] = df['genres_text'].apply(lambda x: get_bert_embeddings(x)[0])\n",
    "\n",
    "# 파이프라인을 사용하여 영화를 추천합니다.\n",
    "recommended_movies = recommend_movies(\"The Eyes\", df)\n",
    "print(recommended_movies)"
   ]
  },
  {
   "cell_type": "code",
   "execution_count": 8,
   "id": "9590cdc9",
   "metadata": {},
   "outputs": [
    {
     "name": "stdout",
     "output_type": "stream",
     "text": [
      "Movies that related to The Eyes : \n",
      "+Insidious: Chapter 3\n",
      "+The Menu\n",
      "+The Last Exorcism\n",
      "+Escape Room: Tournament of Champions\n",
      "+Ready or Not\n"
     ]
    }
   ],
   "source": [
    "# 영화 제목을 변수에 저장합니다.\n",
    "movie_name = \"The Eyes\"\n",
    "\n",
    "# 영화 제목을 사용하여 영화 추천을 실행합니다.\n",
    "# 추천 영화는 코사인 유사도를 사용하여 선택되며, 장르가 유사한 영화가 우선적으로 선택됩니다.\n",
    "# 또한, 수익, 투표 수, 평균 투표 점수가 높은 영화가 우선적으로 선택됩니다.\n",
    "recommended_movies = recommend_movies(movie_name, df)\n",
    "\n",
    "# 추천된 영화 목록을 출력합니다.\n",
    "# 각 영화 제목 앞에 '+' 기호를 추가하여 강조합니다.\n",
    "print(f\"Movies that related to {movie_name} : \")\n",
    "for i in recommended_movies:\n",
    "    print(f\"+{i}\")\n"
   ]
  },
  {
   "cell_type": "code",
   "execution_count": 9,
   "id": "8dbaaaf9",
   "metadata": {},
   "outputs": [
    {
     "name": "stdout",
     "output_type": "stream",
     "text": [
      "Movies that related to The Avengers : \n",
      "+Avengers: Age of Ultron\n",
      "+Black Panther\n",
      "+Iron Man 3\n",
      "+Man of Steel\n",
      "+Justice League\n"
     ]
    }
   ],
   "source": [
    "movie_name = \"The Avengers\"\n",
    "print(f\"Movies that related to {movie_name} : \")\n",
    "recommended_movies = recommend_movies(movie_name, df)\n",
    "for i in recommended_movies:   \n",
    "    print(f\"+{i}\")"
   ]
  },
  {
   "cell_type": "code",
   "execution_count": 10,
   "id": "f48c7ccb",
   "metadata": {},
   "outputs": [
    {
     "name": "stdout",
     "output_type": "stream",
     "text": [
      "Movies that related to The Amazing Spider-Man : \n",
      "+Aquaman\n",
      "+The Hobbit: The Battle of the Five Armies\n",
      "+Batman v Superman: Dawn of Justice\n",
      "+Wonder Woman\n",
      "+The Amazing Spider-Man\n"
     ]
    }
   ],
   "source": [
    "movie_name = \"The Amazing Spider-Man\"\n",
    "print(f\"Movies that related to {movie_name} : \")\n",
    "recommended_movies = recommend_movies(movie_name, df)\n",
    "for i in recommended_movies:   \n",
    "    print(f\"+{i}\")"
   ]
  },
  {
   "cell_type": "code",
   "execution_count": 11,
   "id": "191386e3",
   "metadata": {},
   "outputs": [
    {
     "name": "stdout",
     "output_type": "stream",
     "text": [
      "Movies that related to Mommy : \n",
      "+Bridge of Spies\n",
      "+Money Monster\n",
      "+Margin Call\n",
      "+Neerja\n",
      "+The Words\n"
     ]
    }
   ],
   "source": [
    "movie_name = \"Mommy\"\n",
    "print(f\"Movies that related to {movie_name} : \")\n",
    "recommended_movies = recommend_movies(movie_name, df)\n",
    "for i in recommended_movies:   \n",
    "    print(f\"+{i}\")"
   ]
  },
  {
   "cell_type": "code",
   "execution_count": 12,
   "id": "0c86e158",
   "metadata": {},
   "outputs": [
    {
     "name": "stdout",
     "output_type": "stream",
     "text": [
      "Movies that related to Seoul Station : \n",
      "+Mission: Impossible - Ghost Protocol\n",
      "+The Mummy\n",
      "+The First Purge\n",
      "+The Purge: Election Year\n",
      "+Red Riding Hood\n"
     ]
    }
   ],
   "source": [
    "movie_name = \"Seoul Station\"\n",
    "print(f\"Movies that related to {movie_name} : \")\n",
    "recommended_movies = recommend_movies(movie_name, df)\n",
    "for i in recommended_movies:   \n",
    "    print(f\"+{i}\")"
   ]
  }
 ],
 "metadata": {
  "kernelspec": {
   "display_name": "Python 3 (ipykernel)",
   "language": "python",
   "name": "python3"
  },
  "language_info": {
   "codemirror_mode": {
    "name": "ipython",
    "version": 3
   },
   "file_extension": ".py",
   "mimetype": "text/x-python",
   "name": "python",
   "nbconvert_exporter": "python",
   "pygments_lexer": "ipython3",
   "version": "3.11.5"
  }
 },
 "nbformat": 4,
 "nbformat_minor": 5
}
