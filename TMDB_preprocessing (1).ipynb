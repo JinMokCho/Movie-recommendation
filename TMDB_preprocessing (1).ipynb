{
 "cells": [
  {
   "cell_type": "code",
   "execution_count": 1,
   "id": "7db5aedf",
   "metadata": {},
   "outputs": [],
   "source": [
    "import pandas as pd"
   ]
  },
  {
   "cell_type": "code",
   "execution_count": 2,
   "id": "8005b572",
   "metadata": {},
   "outputs": [],
   "source": [
    "df = pd.read_csv(\"C:/Users/carry/Documents/TMDB_movie_dataset_v11.csv\")"
   ]
  },
  {
   "cell_type": "code",
   "execution_count": 3,
   "id": "56f66681",
   "metadata": {},
   "outputs": [
    {
     "name": "stdout",
     "output_type": "stream",
     "text": [
      "<class 'pandas.core.frame.DataFrame'>\n",
      "RangeIndex: 953405 entries, 0 to 953404\n",
      "Data columns (total 23 columns):\n",
      " #   Column                Non-Null Count   Dtype  \n",
      "---  ------                --------------   -----  \n",
      " 0   id                    953405 non-null  int64  \n",
      " 1   title                 953394 non-null  object \n",
      " 2   vote_average          953405 non-null  float64\n",
      " 3   vote_count            953405 non-null  int64  \n",
      " 4   status                953405 non-null  object \n",
      " 5   release_date          862657 non-null  object \n",
      " 6   revenue               953405 non-null  int64  \n",
      " 7   runtime               953405 non-null  int64  \n",
      " 8   adult                 953405 non-null  bool   \n",
      " 9   backdrop_path         278486 non-null  object \n",
      " 10  budget                953405 non-null  int64  \n",
      " 11  homepage              103900 non-null  object \n",
      " 12  imdb_id               558107 non-null  object \n",
      " 13  original_language     953405 non-null  object \n",
      " 14  original_title        953394 non-null  object \n",
      " 15  overview              786314 non-null  object \n",
      " 16  popularity            953405 non-null  float64\n",
      " 17  poster_path           705562 non-null  object \n",
      " 18  tagline               138227 non-null  object \n",
      " 19  genres                614830 non-null  object \n",
      " 20  production_companies  463468 non-null  object \n",
      " 21  production_countries  579636 non-null  object \n",
      " 22  spoken_languages      586181 non-null  object \n",
      "dtypes: bool(1), float64(2), int64(5), object(15)\n",
      "memory usage: 160.9+ MB\n"
     ]
    }
   ],
   "source": [
    "df.info()"
   ]
  },
  {
   "cell_type": "code",
   "execution_count": 4,
   "id": "706d204f",
   "metadata": {},
   "outputs": [],
   "source": [
    "# 2010년 이상 영화만 선택합니다.\n",
    "df = df[df['release_date'].str[:4] >= '2010']"
   ]
  },
  {
   "cell_type": "code",
   "execution_count": 5,
   "id": "9c155ac4",
   "metadata": {},
   "outputs": [],
   "source": [
    "# ['genres','overview','production_countries','spoken_languages'] 컬럼이 NULL 값인 행을 삭제합니다.\n",
    "df = df.dropna(subset=['genres','overview','production_countries','spoken_languages'])"
   ]
  },
  {
   "cell_type": "code",
   "execution_count": 6,
   "id": "5a566b27",
   "metadata": {},
   "outputs": [],
   "source": [
    "# 분석에 사용하지 않은 열을 삭제합니다.\n",
    "df = df.drop(columns=['backdrop_path', 'homepage', 'poster_path', 'tagline', 'production_companies','imdb_id'])"
   ]
  },
  {
   "cell_type": "code",
   "execution_count": 7,
   "id": "ed1bd7fd",
   "metadata": {},
   "outputs": [
    {
     "name": "stdout",
     "output_type": "stream",
     "text": [
      "<class 'pandas.core.frame.DataFrame'>\n",
      "Int64Index: 158938 entries, 0 to 953400\n",
      "Data columns (total 17 columns):\n",
      " #   Column                Non-Null Count   Dtype  \n",
      "---  ------                --------------   -----  \n",
      " 0   id                    158938 non-null  int64  \n",
      " 1   title                 158938 non-null  object \n",
      " 2   vote_average          158938 non-null  float64\n",
      " 3   vote_count            158938 non-null  int64  \n",
      " 4   status                158938 non-null  object \n",
      " 5   release_date          158938 non-null  object \n",
      " 6   revenue               158938 non-null  int64  \n",
      " 7   runtime               158938 non-null  int64  \n",
      " 8   adult                 158938 non-null  bool   \n",
      " 9   budget                158938 non-null  int64  \n",
      " 10  original_language     158938 non-null  object \n",
      " 11  original_title        158938 non-null  object \n",
      " 12  overview              158938 non-null  object \n",
      " 13  popularity            158938 non-null  float64\n",
      " 14  genres                158938 non-null  object \n",
      " 15  production_countries  158938 non-null  object \n",
      " 16  spoken_languages      158938 non-null  object \n",
      "dtypes: bool(1), float64(2), int64(5), object(9)\n",
      "memory usage: 20.8+ MB\n"
     ]
    }
   ],
   "source": [
    "df.info()"
   ]
  },
  {
   "cell_type": "code",
   "execution_count": 8,
   "id": "d9c927dd",
   "metadata": {},
   "outputs": [],
   "source": [
    "df.to_csv('TMDB_158938')"
   ]
  },
  {
   "cell_type": "code",
   "execution_count": null,
   "id": "3183037a",
   "metadata": {},
   "outputs": [],
   "source": []
  }
 ],
 "metadata": {
  "kernelspec": {
   "display_name": "Python 3 (ipykernel)",
   "language": "python",
   "name": "python3"
  },
  "language_info": {
   "codemirror_mode": {
    "name": "ipython",
    "version": 3
   },
   "file_extension": ".py",
   "mimetype": "text/x-python",
   "name": "python",
   "nbconvert_exporter": "python",
   "pygments_lexer": "ipython3",
   "version": "3.11.4"
  }
 },
 "nbformat": 4,
 "nbformat_minor": 5
}
